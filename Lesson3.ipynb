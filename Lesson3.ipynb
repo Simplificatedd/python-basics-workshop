{
 "cells": [
  {
   "cell_type": "markdown",
   "id": "e8b58426",
   "metadata": {},
   "source": [
    "## 7) Loops\n",
    "\n",
    "### For Loop (Definite Loop)\n",
    "- Syntax: `for i in range(start, end, step)`\n",
    "    - `start` and `step` are optional, and if not defined:\n",
    "        - `start` defaults to 0.\n",
    "        - `step` defaults to 1.\n",
    "- `range` is zero-based and **end is exclusive**.\n",
    "    - e.g. `range(5)` → `0, 1, 2, 3, 4`\n",
    "- Common iterator names: `i`, `j`, `k`, `n`\n",
    "- Loop over iterables (`for var in iterable`)."
   ]
  },
  {
   "cell_type": "code",
   "execution_count": null,
   "id": "f4e1913f",
   "metadata": {},
   "outputs": [],
   "source": [
    "# Counting by index\n",
    "for i in range(5):        # 0..4\n",
    "    print(i)"
   ]
  },
  {
   "cell_type": "code",
   "execution_count": null,
   "id": "3d8a8de1",
   "metadata": {},
   "outputs": [],
   "source": [
    "# Start, end, step\n",
    "for x in range(2, 10, 2): # 2,4,6,8\n",
    "    print(x)"
   ]
  },
  {
   "cell_type": "code",
   "execution_count": null,
   "id": "06264b5c",
   "metadata": {},
   "outputs": [],
   "source": [
    "# Looping through a list\n",
    "for name in [\"Alice\", \"Bob\", \"Charlie\"]:\n",
    "    print(name)"
   ]
  },
  {
   "cell_type": "code",
   "execution_count": null,
   "id": "ca9418bf",
   "metadata": {},
   "outputs": [],
   "source": [
    "# Looping through a string\n",
    "for character in \"hello\":\n",
    "    print(character)"
   ]
  },
  {
   "cell_type": "markdown",
   "id": "b520b986",
   "metadata": {},
   "source": [
    "### While Loop (Indefinite Loop)\n",
    "- Runs **while** a condition is `True`."
   ]
  },
  {
   "cell_type": "code",
   "execution_count": null,
   "id": "24e5af07",
   "metadata": {},
   "outputs": [],
   "source": [
    "count = 0\n",
    "while count < 5:\n",
    "    print(count)\n",
    "    count += 1"
   ]
  },
  {
   "cell_type": "markdown",
   "id": "a8ba0004",
   "metadata": {},
   "source": [
    "### `break`, `continue` and `pass` keywords\n",
    "- `break` → exit the loop early.\n",
    "- `continue` → skip to the next iteration.\n",
    "- `pass` → placeholder code in the loop."
   ]
  },
  {
   "cell_type": "code",
   "execution_count": null,
   "id": "d043df64",
   "metadata": {},
   "outputs": [],
   "source": [
    "for n in range(10):\n",
    "    if n == 6:\n",
    "        break            # stops at 6\n",
    "    if n % 2 == 0:\n",
    "        continue         # skip even numbers\n",
    "    print(n)             # prints odd numbers before 6\n",
    "\n",
    "for n in range(5):\n",
    "    pass                 # placeholder for future code"
   ]
  },
  {
   "cell_type": "markdown",
   "id": "535d0da7",
   "metadata": {},
   "source": [
    "### Try this exercise!\n",
    "\n",
    "1. Use a for loop to print numbers 1–20 that are multiples of 3 on one line, separated by spaces."
   ]
  },
  {
   "cell_type": "code",
   "execution_count": null,
   "id": "f446abb7",
   "metadata": {},
   "outputs": [],
   "source": [
    "# Multiples of 3 from 1 to 20 (print on one line)\n",
    "# TODO: your code here\n",
    "\n"
   ]
  },
  {
   "cell_type": "markdown",
   "id": "8935bd6d",
   "metadata": {},
   "source": [
    "### Nested Loops\n",
    "You can combine loops for grid-like work."
   ]
  },
  {
   "cell_type": "code",
   "execution_count": null,
   "id": "df7fc753",
   "metadata": {},
   "outputs": [],
   "source": [
    "for i in range(2):\n",
    "    for j in range(2):\n",
    "        for k in range(2):\n",
    "            print(f\"i={i}, j={j}, k={k}\")"
   ]
  },
  {
   "cell_type": "markdown",
   "id": "cdee8f19",
   "metadata": {},
   "source": [
    "---\n",
    "\n",
    "## 8) Functions\n",
    "> Functions are reusable, callable blocks of code.\n",
    "\n",
    "### Defining and Calling\n",
    "1. In order to call a function, you have to define it.\n",
    "2. In order to execute the code within the function, you have to call it.\n",
    "\n",
    "Define Function → Call Function → Function Executes"
   ]
  },
  {
   "cell_type": "code",
   "execution_count": null,
   "id": "7843801b",
   "metadata": {},
   "outputs": [],
   "source": [
    "# Run this first to define the function\n",
    "def greet():\n",
    "    print(\"Hello, world!\")"
   ]
  },
  {
   "cell_type": "code",
   "execution_count": null,
   "id": "8ab835bc",
   "metadata": {},
   "outputs": [],
   "source": [
    "# Now call the function to execute its code\n",
    "greet()"
   ]
  },
  {
   "cell_type": "code",
   "execution_count": null,
   "id": "e85047ae",
   "metadata": {},
   "outputs": [],
   "source": [
    "# Try defining a function that prints a message\n",
    "\n"
   ]
  },
  {
   "cell_type": "code",
   "execution_count": null,
   "id": "8938e10c",
   "metadata": {},
   "outputs": [],
   "source": [
    "# Call your function 3 times\n",
    "\n"
   ]
  },
  {
   "cell_type": "markdown",
   "id": "2a1b1ff5",
   "metadata": {},
   "source": [
    "### Parameters (Inputs)\n",
    "\n",
    "You can pass data into a function through parameters.\n",
    "- Parameters act like placeholders for values.\n",
    "- When calling the function, you can give arguments that fill those placeholders."
   ]
  },
  {
   "cell_type": "code",
   "execution_count": null,
   "id": "1c818d75",
   "metadata": {},
   "outputs": [],
   "source": [
    "def greet(name):\n",
    "    print(f\"Hello, {name}!\")\n",
    "\n",
    "greet(\"Alice\")"
   ]
  },
  {
   "cell_type": "markdown",
   "id": "39741814",
   "metadata": {},
   "source": [
    "### Default Parameters\n",
    "\n",
    "You can give parameters a default value so they don’t have to be passed every time.\n",
    "- **If no value is provided, the default is used.**\n",
    "- This makes functions more flexible and less prone to errors due to missing data."
   ]
  },
  {
   "cell_type": "code",
   "execution_count": null,
   "id": "7807d996",
   "metadata": {},
   "outputs": [],
   "source": [
    "def greet(name = \"Guest\"):\n",
    "    print(f\"Hello, {name}!\")\n",
    "\n",
    "greet()          # Hello, Guest!\n",
    "greet(\"Alice\")   # Hello, Alice!"
   ]
  },
  {
   "cell_type": "markdown",
   "id": "08ce0b6c",
   "metadata": {},
   "source": [
    "### Return Values (Outputs)\n",
    "A function can send data back to the caller using return.\n",
    "- return passes a result out of the function.\n",
    "- Without return, the function just runs and produces no output value."
   ]
  },
  {
   "cell_type": "code",
   "execution_count": null,
   "id": "af644350",
   "metadata": {},
   "outputs": [],
   "source": [
    "def add(a, b):\n",
    "    return a + b\n",
    "\n",
    "result = add(3, 5)\n",
    "print(result)  # 8"
   ]
  },
  {
   "cell_type": "markdown",
   "id": "5b8eee68",
   "metadata": {},
   "source": [
    "---\n",
    "\n",
    "## 9) Random\n",
    "Introduce randomness.\n",
    "\n",
    "- Use the `random` module.\n",
    "- `random.randint(start, end)` returns an **inclusive** integer in `[start, end]`."
   ]
  },
  {
   "cell_type": "code",
   "execution_count": null,
   "id": "bb868af4",
   "metadata": {},
   "outputs": [],
   "source": [
    "import random\n",
    "\n",
    "number = random.randint(1, 10)  # 1..10 inclusive\n",
    "print(f\"Your random number is {number}\")"
   ]
  },
  {
   "cell_type": "markdown",
   "id": "9b3c2cd8",
   "metadata": {},
   "source": [
    "### Pseudo-Randomness\n",
    "\n",
    "- Computers cannot create **true** randomness (like rolling a dice in real life).\n",
    "- Instead, they generate numbers using a formula, which are called `pseudo-random` numbers.\n",
    "\n",
    "#### How Python's `random` module works:\n",
    "- It uses a `seed value` (starting point) and a mathematical alrogithm to generate the pseudo-random numbers.\n",
    "- If you start with the same seed, you'll always get the same sequence of pseudo-random numbers."
   ]
  },
  {
   "cell_type": "code",
   "execution_count": null,
   "id": "7235a1b3",
   "metadata": {},
   "outputs": [],
   "source": [
    "import random\n",
    "\n",
    "# Set the seed\n",
    "random.seed(42)\n",
    "\n",
    "# Generate random numbers\n",
    "print(random.randint(1, 10))  # always the same\n",
    "print(random.randint(1, 10))  # always the same\n",
    "print(random.randint(1, 10))  # always the same\n",
    "\n",
    "# Reset the seed to 42\n",
    "print(\"Seed Reset\")\n",
    "random.seed(42)\n",
    "\n",
    "# Repeat the sequence\n",
    "print(random.randint(1, 10))  # same as first run\n",
    "print(random.randint(1, 10))  # same as second run\n",
    "print(random.randint(1, 10))  # same as third run"
   ]
  },
  {
   "cell_type": "markdown",
   "id": "763c6c07",
   "metadata": {},
   "source": [
    "### Try this exercise!\n",
    "\n",
    "1. Generate 10 random integers in [1, 6] and print them."
   ]
  },
  {
   "cell_type": "code",
   "execution_count": null,
   "id": "41a556a4",
   "metadata": {},
   "outputs": [],
   "source": [
    "# 10 random ints in [1, 6] and print them\n",
    "\n",
    "\n"
   ]
  },
  {
   "cell_type": "markdown",
   "id": "b021d6c7",
   "metadata": {},
   "source": [
    "---\n",
    "## Bonus lesson: If–Else Inside Functions\n",
    "\n",
    "- When you use if by itself, Python keeps checking the rest of the code unless you add `elif` or `else`."
   ]
  },
  {
   "cell_type": "code",
   "execution_count": null,
   "id": "65c071e5",
   "metadata": {},
   "outputs": [],
   "source": [
    "grade = 85\n",
    "\n",
    "print(\"Without else:\")\n",
    "if grade >= 80:\n",
    "    print(\"A\")\n",
    "print(\"Not A\")\n",
    "\n",
    "print(\"With else:\")\n",
    "if grade >= 80:\n",
    "    print(\"A\")\n",
    "else:\n",
    "    print(\"Not A\")"
   ]
  },
  {
   "cell_type": "markdown",
   "id": "559f26a4",
   "metadata": {},
   "source": [
    "- When you use `return` inside an `if` condition, Python exits the function immediately once the condition is `True`.\n",
    "- That means you don’t need `else`, since the function won’t keep going."
   ]
  },
  {
   "cell_type": "code",
   "execution_count": null,
   "id": "618cbd9c",
   "metadata": {},
   "outputs": [],
   "source": [
    "def get_grade(grade):\n",
    "    if grade >= 80:\n",
    "        return \"A\"\n",
    "    if grade >= 70:\n",
    "        return \"B\"\n",
    "    if grade >= 60:\n",
    "        return \"C\"\n",
    "    if grade >= 50:\n",
    "        return \"D\"\n",
    "    return \"F\"   # no else needed\n",
    "\n",
    "print(get_grade(85))  # A\n",
    "print(get_grade(75))  # B\n",
    "print(get_grade(45))  # F"
   ]
  },
  {
   "cell_type": "markdown",
   "id": "19bd8efc",
   "metadata": {},
   "source": [
    "---\n",
    "# Extra Exercises\n",
    "## Loops"
   ]
  },
  {
   "cell_type": "markdown",
   "id": "717ca55d",
   "metadata": {},
   "source": [
    "1. Use a while loop to add whole numbers starting from 1 until the cumulative total is ≥ 50; print the final sum and the last number added."
   ]
  },
  {
   "cell_type": "code",
   "execution_count": null,
   "id": "d2263bd0",
   "metadata": {},
   "outputs": [],
   "source": [
    "# 2) While-loop running sum until total >= 50\n",
    "# TODO: your code here\n",
    "\n"
   ]
  },
  {
   "cell_type": "markdown",
   "id": "cc9cbbdc",
   "metadata": {},
   "source": [
    "2. Given a list of names, print only those that do NOT start with 'A'. Use either while loop or for loop."
   ]
  },
  {
   "cell_type": "code",
   "execution_count": null,
   "id": "8894442f",
   "metadata": {},
   "outputs": [],
   "source": [
    "# 3) Print only names that start with 'A' using continue keyword\n",
    "names = [\"Alice\", \"Bob\", \"Amy\", \"Charlie\", \"Ann\", \"Beatrice\", \"David\", \"Veronica\"]\n",
    "# TODO: your code here\n",
    "\n"
   ]
  },
  {
   "cell_type": "markdown",
   "id": "96937991",
   "metadata": {},
   "source": [
    "## Nested loops\n",
    "\n",
    "1. Print a 4×4 grid of `*` using nested loops."
   ]
  },
  {
   "cell_type": "code",
   "execution_count": null,
   "id": "744b6a24",
   "metadata": {},
   "outputs": [],
   "source": [
    "# 4x4 grid of '*'\n",
    "\n",
    "# TODO: your code here\n",
    "\n",
    "\n"
   ]
  },
  {
   "cell_type": "markdown",
   "id": "adde8df6",
   "metadata": {},
   "source": [
    "2. Print a multiplication table for 1 to 5.\n",
    "\n",
    "**Example:**\n",
    "\n",
    "| 1 | 2  | 3  | 4  | 5  |\n",
    "|---|----|----|----|----|\n",
    "| 2 | 4  | 6  | 8  | 10 |\n",
    "| 3 | 6  | ?  | ?  | ?  |\n",
    "| 4 | 8  | ?  | ?  | ?  |\n",
    "| 5 | 10 | ?  | ?  | ?  |"
   ]
  },
  {
   "cell_type": "code",
   "execution_count": null,
   "id": "b70876a6",
   "metadata": {},
   "outputs": [],
   "source": [
    "# Multiplication table for 1 to 5.\n",
    "# Reminder: You can use \\t for tab spacing\n",
    "\n",
    "# TODO: your code here\n",
    "\n",
    "\n"
   ]
  },
  {
   "cell_type": "markdown",
   "id": "ecc22397",
   "metadata": {},
   "source": [
    "## Functions"
   ]
  },
  {
   "cell_type": "code",
   "execution_count": null,
   "id": "90a6d555",
   "metadata": {},
   "outputs": [],
   "source": [
    "# Try writing a function that takes in a name as a parameter uses the name in a message\n",
    "\n",
    "\n",
    "# Call the function with different inputs\n",
    "\n"
   ]
  },
  {
   "cell_type": "code",
   "execution_count": null,
   "id": "62dd9b0e",
   "metadata": {},
   "outputs": [],
   "source": [
    "# Copy your previous function here and modify it to use a default parameter value\n",
    "\n",
    "\n",
    "# Call your function with and without an argument\n",
    "\n"
   ]
  },
  {
   "cell_type": "code",
   "execution_count": null,
   "id": "f4769650",
   "metadata": {},
   "outputs": [],
   "source": [
    "# Try writing a function that takes two parameters and returns their product (*)\n",
    "\n",
    "\n",
    "# Call your function with different arguments and print the results\n",
    "\n"
   ]
  },
  {
   "cell_type": "markdown",
   "id": "eb971a44",
   "metadata": {},
   "source": [
    "## Random"
   ]
  },
  {
   "cell_type": "markdown",
   "id": "7f9098a6",
   "metadata": {},
   "source": [
    "- Keep generating random integers in [1,4] until these conditions are met, in order:\n",
    "\t1.\tland on a 1, printing `1` + the number of tries it took to roll a 1.\n",
    "\t2.\tland on a 2, printing `2` + the number of tries it took to roll a 2.\n",
    "\t3.\tland on a 3, printing `3` + the number of tries it took to roll a 3.\n",
    "    4.  land on a 4, printing `4` + the number of tries it took to roll a 4."
   ]
  },
  {
   "cell_type": "code",
   "execution_count": null,
   "id": "a661d6ae",
   "metadata": {},
   "outputs": [],
   "source": [
    "# Keep printing random numbers in [1, 4] until you get a 1\n",
    "# After getting a 1, print how many numbers were generated in order to arrive at 1\n",
    "# Then, keep printing random numbers in [1, 4] until you get a 2\n",
    "# After getting a 2, print how many numbers were generated in order to arrive at 2\n",
    "# Then, keep printing random numbers in [1, 4] until you get a 3\n",
    "# After getting a 3, print how many numbers were generated in order to arrive at 3\n",
    "# Then, keep printing random numbers in [1, 4] until you get a 4\n",
    "# Then print how many numbers were generated in total for all 4 stages\n",
    "\n"
   ]
  },
  {
   "cell_type": "markdown",
   "id": "6dbd1b8e",
   "metadata": {},
   "source": [
    "## Bonus lesson: Refactoring\n",
    ">Refactoring is improving the structure of your code without changing what it does.\n",
    "\n",
    "Benefits of refactoring your code:\n",
    "- **Makes your code easier to read.**\n",
    "- **Makes your code easier to maintain.**\n",
    "- **Reduces duplication within your main code.**"
   ]
  },
  {
   "cell_type": "code",
   "execution_count": null,
   "id": "870dbd5d",
   "metadata": {},
   "outputs": [],
   "source": [
    "# Copy your previous code here and refactor parts of it into a function and call it in your main code\n",
    "# Functions\n",
    "\n",
    "\n",
    "# Main code\n",
    "\n"
   ]
  }
 ],
 "metadata": {
  "kernelspec": {
   "display_name": ".venv (3.12.0)",
   "language": "python",
   "name": "python3"
  },
  "language_info": {
   "codemirror_mode": {
    "name": "ipython",
    "version": 3
   },
   "file_extension": ".py",
   "mimetype": "text/x-python",
   "name": "python",
   "nbconvert_exporter": "python",
   "pygments_lexer": "ipython3",
   "version": "3.12.0"
  }
 },
 "nbformat": 4,
 "nbformat_minor": 5
}
