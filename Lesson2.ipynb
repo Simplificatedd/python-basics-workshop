{
 "cells": [
  {
   "cell_type": "markdown",
   "id": "a24c3862",
   "metadata": {},
   "source": [
    "## 4) Strings\n",
    "\n",
    "> Strings are sequences like a List (indexable/sliceable) but unlike Lists, they are immutable (cannot change characters in place)."
   ]
  },
  {
   "cell_type": "markdown",
   "id": "c711deba",
   "metadata": {},
   "source": [
    "### Indexing:"
   ]
  },
  {
   "cell_type": "code",
   "execution_count": null,
   "id": "35894982",
   "metadata": {},
   "outputs": [],
   "source": [
    "s = \"python\"\n",
    "print(s[0])   # 'p'\n",
    "print(s[5])   # 'n'\n",
    "\n"
   ]
  },
  {
   "cell_type": "markdown",
   "id": "a1ce41ce",
   "metadata": {},
   "source": [
    "### Reverse indexing (negative):"
   ]
  },
  {
   "cell_type": "code",
   "execution_count": null,
   "id": "a6717f0a",
   "metadata": {},
   "outputs": [],
   "source": [
    "s = \"python\"\n",
    "print(s[-1])  # 'n'\n",
    "print(s[-2])  # 'o'\n",
    "\n"
   ]
  },
  {
   "cell_type": "markdown",
   "id": "d22d8b78",
   "metadata": {},
   "source": [
    "### Slicing: \n",
    "\n",
    "`s[start:stop:step]` (stop is exclusive)"
   ]
  },
  {
   "cell_type": "code",
   "execution_count": null,
   "id": "968723be",
   "metadata": {},
   "outputs": [],
   "source": [
    "s = \"python\"\n",
    "print(s[1:4])   # 'yth'\n",
    "print(s[:3])    # 'pyt'\n",
    "print(s[3:])    # 'hon'\n",
    "print(s[::-1])  # 'nohtyp' (reverse slicing)\n",
    "print(s[-2:-4:-1])\n"
   ]
  },
  {
   "cell_type": "code",
   "execution_count": null,
   "id": "2b6e7761",
   "metadata": {},
   "outputs": [],
   "source": [
    "school = \"Singapore University of Social Sciences\"\n",
    "# Try printing \"Singapore\", \"University\", \"Social\" and \"Sciences\" using slicing\n",
    "\n"
   ]
  },
  {
   "cell_type": "code",
   "execution_count": null,
   "id": "55f272af",
   "metadata": {},
   "outputs": [],
   "source": [
    "school = \"Singapore University of Social Sciences\"\n",
    "# Try printing \"Singapore\", \"University\", \"Social\" and \"Sciences\" using reverse slicing\n",
    "\n"
   ]
  },
  {
   "cell_type": "code",
   "execution_count": null,
   "id": "65886a7c",
   "metadata": {},
   "outputs": [],
   "source": [
    "jumbledString = \"S1i2n3g4a5p6o7r8e\"\n",
    "# Try slicing this using 2 steps instead of the default 1\n",
    "\n"
   ]
  },
  {
   "cell_type": "code",
   "execution_count": null,
   "id": "a7c0865c",
   "metadata": {},
   "outputs": [],
   "source": [
    "reversedString = \"es8ebc5ngeji5c6S8 2leaaisc2o3S4 5feoe eyjtgi3s6r2e2v3i4n5U6 8e0r9o8p7a6g5n3i1S\"\n",
    "# Try slicing this using -2 steps instead of the default 1\n",
    "\n"
   ]
  },
  {
   "cell_type": "markdown",
   "id": "19e547a4",
   "metadata": {},
   "source": [
    "### Useful string methods:  \n",
    "\n",
    "| Method | Description |\n",
    "|---------|-------------|\n",
    "| `upper()` | Converts all characters in the string to uppercase. |\n",
    "| `lower()` | Converts all characters in the string to lowercase. |\n",
    "| `count()` | Counts the number of times a substring appears in the string. |\n",
    "| `join()` | Joins elements of an iterable into a single string, using the string as a separator. |\n",
    "| `capitalize()` | Converts the first character of the string to uppercase and the rest to lowercase. |\n",
    "| `title()` | Converts the first character of each word to uppercase. |\n",
    "| `strip()` | Removes whitespace from the beginning and end of the string. |\n",
    "| `replace(old, new)` | Replaces all occurrences of a substring with another substring. |\n",
    "| `split()` | Splits the string into a list using a delimiter (default is space). |\n",
    "| `find()` | Returns the index of the first occurrence of a substring (or `-1` if not found). |\n"
   ]
  },
  {
   "cell_type": "code",
   "execution_count": null,
   "id": "9e579cd8",
   "metadata": {},
   "outputs": [],
   "source": [
    "string = \"   hello world   \"\n",
    "print(string.upper())          # '   HELLO WORLD   '\n",
    "print(string.lower())          # '   hello world   '\n",
    "print(string.count(\"hello\"))   # 1\n",
    "print(string.count(\"world\"))   # 1\n",
    "print(string.capitalize())     # '   hello world   '\n",
    "print(string.title())          # '   Hello World   '\n",
    "print(string.strip())          # 'hello world'\n",
    "print(string.replace(\"world\", \"Python\"))   # '   hello Python   '\n",
    "print(string.split())          # ['hello', 'world']\n",
    "print(\" \".join([\"Python\", \"is\", \"fun\"]))   # 'Python is fun'\n",
    "print(string.find(\"world\"))    # 9\n",
    "print(string.find(\"Python\"))   # -1"
   ]
  },
  {
   "cell_type": "markdown",
   "id": "d99bdac3",
   "metadata": {},
   "source": [
    "### Explore more string methods here:\n",
    "\n",
    "[String methods](https://www.w3schools.com/python/python_ref_string.asp)"
   ]
  },
  {
   "cell_type": "code",
   "execution_count": null,
   "id": "34ad0d77",
   "metadata": {},
   "outputs": [],
   "source": [
    "# Try using some of the other string methods here\n",
    "\n",
    "\n"
   ]
  },
  {
   "cell_type": "markdown",
   "id": "7edaeab3",
   "metadata": {},
   "source": [
    "### Concatenation (Adding strings together):"
   ]
  },
  {
   "cell_type": "code",
   "execution_count": null,
   "id": "c32fd601",
   "metadata": {},
   "outputs": [],
   "source": [
    "print(\"hello\" + \" \" + \"world\")   # 'hello world'"
   ]
  },
  {
   "cell_type": "markdown",
   "id": "3483ccab",
   "metadata": {},
   "source": [
    "### Escape characters:\n",
    "\n",
    "| Escape Character | Description |\n",
    "|------------------|-------------|\n",
    "| `\\n` | New line (line break). |\n",
    "| `\\t` | Tab space. |\n",
    "| `\\\\` | Backslash (`\\`). |\n",
    "| `\\'` | Single quote (`'`). Useful in single-quoted strings. |\n",
    "| `\\\"` | Double quote (`\"`). Useful in double-quoted strings. |\n",
    "| `\\r` | Carriage return. Moves cursor to the start of the line. |\n",
    "| `\\b` | Backspace. Removes one character (not always visible in output). |\n",
    "| `\\f` | Form feed. Rarely used, mostly in printing contexts. |\n",
    "| `\\uXXXX` | Unicode character (4-digit hex). Example: `\\u2764` = ❤. |\n",
    "| `\\UXXXXXXXX` | Unicode character (8-digit hex). |\n",
    "| `\\xXX` | Character with specified hex value (2 digits). |\n",
    "| `\\ooo` | Character with specified octal value (3 digits). |\n"
   ]
  },
  {
   "cell_type": "markdown",
   "id": "101996d2",
   "metadata": {},
   "source": [
    "### Examples of using escape characters"
   ]
  },
  {
   "cell_type": "code",
   "execution_count": null,
   "id": "fc874e8b",
   "metadata": {},
   "outputs": [],
   "source": [
    "print(\"line1\\nline2\\n\\nline3\") # newline"
   ]
  },
  {
   "cell_type": "code",
   "execution_count": null,
   "id": "b62a9311",
   "metadata": {},
   "outputs": [],
   "source": [
    "print(\"col1\\tcol2\\t\\tcol3\") # tab"
   ]
  },
  {
   "cell_type": "code",
   "execution_count": null,
   "id": "1bc50cfa",
   "metadata": {},
   "outputs": [],
   "source": [
    "print(\"She said: \\\"ok\\\"\") # To insert quotes inside string"
   ]
  },
  {
   "cell_type": "markdown",
   "id": "ad02c31c",
   "metadata": {},
   "source": [
    "### List of unicode characters:\n",
    "\n",
    ">[Unicode Characters](https://www.vertex42.com/ExcelTips/unicode-symbols.html)"
   ]
  },
  {
   "cell_type": "code",
   "execution_count": null,
   "id": "2c29130d",
   "metadata": {},
   "outputs": [],
   "source": [
    "print(\"4 digit unicode: \\u2764\")   # unicode character (heart)\n",
    "print(\"8 digit unicode: \\U0001F600\")  # unicode character (grinning face)"
   ]
  },
  {
   "cell_type": "markdown",
   "id": "b173610e",
   "metadata": {},
   "source": [
    "### List of ASCII Characters\n",
    "\n",
    ">[ASCII Table](https://www.lookuptables.com/text/ascii-table)"
   ]
  },
  {
   "cell_type": "code",
   "execution_count": null,
   "id": "55243eef",
   "metadata": {},
   "outputs": [],
   "source": [
    "print(\"ASCII Hex code: \\x48\\x65\\x6c\\x6c\\x6f\")  # 'Hello' using hex ASCII codes\n",
    "\n",
    "print(\"ASCII Octal code: \\110\\145\\154\\154\\157\")  # 'Hello' using octal ASCII codes"
   ]
  },
  {
   "cell_type": "markdown",
   "id": "18afe325",
   "metadata": {},
   "source": [
    "### String formatting:\n",
    "\n",
    "String formatting is used to output variables in a string.  \n",
    "There are several ways to format strings in Python:\n",
    "\n",
    "| Method | Explanation | Compatibility |\n",
    "|---------|-------------|------------|\n",
    "| String concatenation (`+`) | Combine strings manually with `+`. You need to convert non-strings (like numbers) using `str()`. | All Python versions |\n",
    "| `% formatting` | Use `%` as placeholders (e.g., `%s` for strings, `%d` for integers) and provide the values after the `%` symbol. | Legacy (Python 2, still works in Python 3) |\n",
    "| `.format()` | Use placeholders `{}` inside the string and replace them with variables using `.format()`. | Python 2.7+ and Python 3.x |\n",
    "| `f-strings` | Add an `f` before the string and put variables directly inside `{}` for cleaner and faster formatting. | Python 3.6+ |\n",
    "\n"
   ]
  },
  {
   "cell_type": "code",
   "execution_count": null,
   "id": "f37ba037",
   "metadata": {},
   "outputs": [],
   "source": [
    "# String concatenation\n",
    "name = \"Bob\"\n",
    "age = 22\n",
    "print(\"Hi \" + name + \", you are \" + str(age) + \" years old.\")\n"
   ]
  },
  {
   "cell_type": "code",
   "execution_count": null,
   "id": "444049a6",
   "metadata": {},
   "outputs": [],
   "source": [
    "# % formatting\n",
    "name = \"Alice\"\n",
    "age = 28\n",
    "print(\"Hi %s, you are %d years old.\" % (name, age))"
   ]
  },
  {
   "cell_type": "code",
   "execution_count": null,
   "id": "4fb58be4",
   "metadata": {},
   "outputs": [],
   "source": [
    "# .format()\n",
    "name = \"Marcus Tan\"\n",
    "age = 45\n",
    "print(\"Hi {name}, you are {age} years old.\".format(name=name, age=age))"
   ]
  },
  {
   "cell_type": "code",
   "execution_count": null,
   "id": "9822a1e4",
   "metadata": {},
   "outputs": [],
   "source": [
    "# f-strings\n",
    "name = \"Nicholas Lee\"\n",
    "age = 30\n",
    "print(f\"Hi {name}, you are {age} years old.\")"
   ]
  },
  {
   "cell_type": "markdown",
   "id": "0964b020",
   "metadata": {},
   "source": [
    "### Try printing the a, b and c using 1 print statement using different string formatting methods:"
   ]
  },
  {
   "cell_type": "code",
   "execution_count": null,
   "id": "1cc4a0fc",
   "metadata": {},
   "outputs": [],
   "source": [
    "a = 20\n",
    "b = 30\n",
    "c = a + b\n",
    "\n",
    "print(\"a = ?\", \"b = ?\", \"c = ?\")"
   ]
  },
  {
   "cell_type": "markdown",
   "id": "e8f42478",
   "metadata": {},
   "source": [
    "### F-Strings\n",
    "F-Strings let you embed variables or expressions directly into strings"
   ]
  },
  {
   "cell_type": "code",
   "execution_count": null,
   "id": "c639589b",
   "metadata": {},
   "outputs": [],
   "source": [
    "# Run this once\n",
    "num_float = 12345.6789\n",
    "num_int = 42\n",
    "num_neg = -123"
   ]
  },
  {
   "cell_type": "markdown",
   "id": "1ec3ec27",
   "metadata": {},
   "source": [
    "### Try printing these variables using f-strings:\n",
    ">[F-Strings](https://www.w3schools.com/python/python_string_formatting.asp)"
   ]
  },
  {
   "cell_type": "code",
   "execution_count": null,
   "id": "73d00e0a",
   "metadata": {},
   "outputs": [],
   "source": [
    "### print using f-strings with formatting options\n",
    "\n",
    "# 1. num_float with 1 decimal place\n",
    "\n",
    "# 2. numb_float with 3 decimal places\n",
    "\n",
    "# 3. num_float with comma as thousands separator\n",
    "\n",
    "# 4. num_int in hexadecimal (lowercase)\n",
    "\n",
    "# 5. num_int in hexadecimal (uppercase)\n",
    "\n",
    "# 6. num_int in binary\n",
    "\n",
    "# 7. num_int with leading zeros to make it 5 digits\n",
    "\n",
    "# 8. num_neg with sign shown (+/-)\n",
    "\n",
    "# Try the some of the other formatting options in the link given above:\n"
   ]
  },
  {
   "cell_type": "markdown",
   "id": "bfb569c9",
   "metadata": {},
   "source": [
    "---\n",
    "\n",
    "## 5) Comparisons & Logical Operators\n",
    "\n",
    "Relational (comparison) operators:\n",
    "\n",
    "`<`, `>`, `<=`, `>=`, `==`, `!=`\n",
    "\n",
    "(Note: `=` is assignment, `==` is equality check.)\n",
    "\n",
    "Logical operators:\n",
    "\n",
    "`and`, `or`, `not`"
   ]
  },
  {
   "cell_type": "code",
   "execution_count": null,
   "id": "f835d03e",
   "metadata": {},
   "outputs": [],
   "source": [
    "x = 10\n",
    "y = 5\n",
    "print(x > y)                 # True\n",
    "print(x == 10 and y == 5)    # True\n",
    "print(x < 0 or y > 0)        # True\n",
    "print(not (x == 10))         # False"
   ]
  },
  {
   "cell_type": "markdown",
   "id": "e637a5ce",
   "metadata": {},
   "source": [
    "Operator precedence (first → last order of execution):\n",
    "\n",
    "- Exponentiation: `**`\n",
    "- Unary plus/minus: `+x`, `-x`\n",
    "- Multiplicative: `*`, `/`, `//`, `%`\n",
    "- Additive: `+`, `-`\n",
    "- Comparisons: `< <= > >= == !=`\n",
    "- Logical NOT: `not`\n",
    "- Logical AND: `and`\n",
    "- Logical OR: `or`\n",
    "\n",
    "Tip: When unsure of the order, use parentheses."
   ]
  },
  {
   "cell_type": "markdown",
   "id": "a9a1cf9c",
   "metadata": {},
   "source": [
    "---\n",
    "\n",
    "## 6) Conditional Statements (Selection)\n",
    "\n",
    "Basic `if` and `if / else`:"
   ]
  },
  {
   "cell_type": "code",
   "execution_count": null,
   "id": "2a66ddcd",
   "metadata": {},
   "outputs": [],
   "source": [
    "score = int(input(\"Score: \"))\n",
    "if score >= 50:\n",
    "    print(\"Pass\")\n",
    "else:\n",
    "    print(\"Fail\")"
   ]
  },
  {
   "cell_type": "markdown",
   "id": "323e8bb0",
   "metadata": {},
   "source": [
    "else-if (`elif`):"
   ]
  },
  {
   "cell_type": "code",
   "execution_count": null,
   "id": "091ee6ee",
   "metadata": {},
   "outputs": [],
   "source": [
    "n = int(input(\"n: \"))\n",
    "if n > 0:\n",
    "    print(\"positive\")\n",
    "elif n == 0:\n",
    "    print(\"zero\")\n",
    "else:\n",
    "    print(\"negative\")"
   ]
  },
  {
   "cell_type": "markdown",
   "id": "01accddd",
   "metadata": {},
   "source": [
    "Nested if statements (if inside another if):\n",
    "\n",
    "| is_admin | has_keycard | Result              |\n",
    "|----------|-------------|---------------------|\n",
    "| True     | True        | Full access granted |\n",
    "| True     | False       | Computer access only   |\n",
    "| False    | True        | Physical access only      |\n",
    "| False    | False       | No access           |"
   ]
  },
  {
   "cell_type": "code",
   "execution_count": null,
   "id": "7d2bb917",
   "metadata": {},
   "outputs": [],
   "source": [
    "# Assigning variables for the nested if examples\n",
    "is_admin = True\n",
    "has_keycard = False"
   ]
  },
  {
   "cell_type": "markdown",
   "id": "5fb80ee3",
   "metadata": {},
   "source": [
    "Nested if statements (if inside another if):"
   ]
  },
  {
   "cell_type": "code",
   "execution_count": null,
   "id": "a004282e",
   "metadata": {},
   "outputs": [],
   "source": [
    "if is_admin:        # First condition\n",
    "    if has_keycard: # Nested condition\n",
    "        print(\"Full access granted\")\n",
    "    else:\n",
    "        print(\"Computer access only\")\n",
    "else:\n",
    "    if has_keycard:\n",
    "        print(\"Physical access only\")\n",
    "    else:\n",
    "        print(\"No access\")"
   ]
  },
  {
   "cell_type": "markdown",
   "id": "71ffd6fe",
   "metadata": {},
   "source": [
    "Unnesting by combining logic:\n",
    ">Combine the logic to map the outcomes"
   ]
  },
  {
   "cell_type": "code",
   "execution_count": null,
   "id": "4b4e7756",
   "metadata": {},
   "outputs": [],
   "source": [
    "if is_admin and has_keycard:\n",
    "    print(\"Full access granted\")\n",
    "elif is_admin and not has_keycard:\n",
    "    print(\"Computer access only\")\n",
    "elif not is_admin and has_keycard:\n",
    "    print(\"Physical access only\")\n",
    "else:\n",
    "    print(\"No access\")"
   ]
  },
  {
   "cell_type": "markdown",
   "id": "62324a0e",
   "metadata": {},
   "source": [
    "Unnesting by reversing logic (AKA Guard Clauses):\n",
    ">Reverse the logic, and put all the nested components under `else`"
   ]
  },
  {
   "cell_type": "code",
   "execution_count": null,
   "id": "d4d586f5",
   "metadata": {},
   "outputs": [],
   "source": [
    "# Initialize variables\n",
    "has_ingredients = True\n",
    "has_time = True\n",
    "stove_working = True\n",
    "knows_recipe = False"
   ]
  },
  {
   "cell_type": "markdown",
   "id": "3c836b4c",
   "metadata": {},
   "source": [
    "From this:"
   ]
  },
  {
   "cell_type": "code",
   "execution_count": null,
   "id": "d1040d3a",
   "metadata": {},
   "outputs": [],
   "source": [
    "if has_ingredients:\n",
    "    if has_time:\n",
    "        if stove_working:\n",
    "            if knows_recipe:\n",
    "                print(\"You can cook the meal!\")\n",
    "            else:\n",
    "                print(\"You don't know the recipe\")\n",
    "        else:\n",
    "            print(\"Stove is broken\")\n",
    "    else:\n",
    "        print(\"Not enough time to cook\")\n",
    "else:\n",
    "    print(\"Missing ingredients\")"
   ]
  },
  {
   "cell_type": "markdown",
   "id": "2acbeb1c",
   "metadata": {},
   "source": [
    "To this:"
   ]
  },
  {
   "cell_type": "code",
   "execution_count": null,
   "id": "0cd43c80",
   "metadata": {},
   "outputs": [],
   "source": [
    "if not has_ingredients:\n",
    "    print(\"Missing ingredients\")\n",
    "elif not has_time:\n",
    "    print(\"Not enough time to cook\")\n",
    "elif not stove_working:\n",
    "    print(\"Stove is broken\")\n",
    "elif not knows_recipe:\n",
    "    print(\"You don't know the recipe\")\n",
    "else:\n",
    "    print(\"You can cook the meal!\")"
   ]
  },
  {
   "cell_type": "markdown",
   "id": "9891a1b9",
   "metadata": {},
   "source": [
    "Try unnesting this!"
   ]
  },
  {
   "cell_type": "code",
   "execution_count": null,
   "id": "3cc5b7e0",
   "metadata": {},
   "outputs": [],
   "source": [
    "# Initialize conditions to check if a person can go on an overseas study trip\n",
    "\n",
    "age = 20\n",
    "has_passport = True\n",
    "has_ticket = True\n",
    "has_visa = True\n",
    "has_permission = True"
   ]
  },
  {
   "cell_type": "code",
   "execution_count": null,
   "id": "6aa5150d",
   "metadata": {},
   "outputs": [],
   "source": [
    "# Nested code\n",
    "if age >= 18:\n",
    "    if has_passport:\n",
    "        if has_ticket:\n",
    "            if has_visa:\n",
    "                if has_permission:\n",
    "                    print(\"You can go on the trip!\")\n",
    "                else:\n",
    "                    print(\"You need parental permission\")\n",
    "            else:\n",
    "                print(\"Visa is missing\")\n",
    "        else:\n",
    "            print(\"Ticket is missing\")\n",
    "    else:\n",
    "        print(\"Passport is missing\")\n",
    "else:\n",
    "    print(\"You must be 18 or older\")"
   ]
  },
  {
   "cell_type": "code",
   "execution_count": null,
   "id": "5c805cdd",
   "metadata": {},
   "outputs": [],
   "source": [
    "# Type your unnested code here\n"
   ]
  }
 ],
 "metadata": {
  "kernelspec": {
   "display_name": ".venv (3.12.0)",
   "language": "python",
   "name": "python3"
  },
  "language_info": {
   "codemirror_mode": {
    "name": "ipython",
    "version": 3
   },
   "file_extension": ".py",
   "mimetype": "text/x-python",
   "name": "python",
   "nbconvert_exporter": "python",
   "pygments_lexer": "ipython3",
   "version": "3.12.0"
  }
 },
 "nbformat": 4,
 "nbformat_minor": 5
}
