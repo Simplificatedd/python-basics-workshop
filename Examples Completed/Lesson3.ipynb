{
 "cells": [
  {
   "cell_type": "markdown",
   "id": "e8b58426",
   "metadata": {},
   "source": [
    "## 7) Loops\n",
    "\n",
    "### For Loop (Definite Loop)\n",
    "- Syntax: `for i in range(start, end, step)`\n",
    "    - `start` and `step` are optional, and if not defined:\n",
    "        - `start` defaults to 0.\n",
    "        - `step` defaults to 1.\n",
    "- `range` is zero-based and **end is exclusive**.\n",
    "    - e.g. `range(5)` → `0, 1, 2, 3, 4`\n",
    "- Common iterator names: `i`, `j`, `k`, `n`\n",
    "- Loop over iterables (`for var in iterable`)."
   ]
  },
  {
   "cell_type": "code",
   "execution_count": 23,
   "id": "f4e1913f",
   "metadata": {},
   "outputs": [
    {
     "name": "stdout",
     "output_type": "stream",
     "text": [
      "0\n",
      "1\n",
      "2\n",
      "3\n",
      "4\n"
     ]
    }
   ],
   "source": [
    "# Counting by index\n",
    "for i in range(5):        # 0..4\n",
    "    print(i)"
   ]
  },
  {
   "cell_type": "code",
   "execution_count": 24,
   "id": "3d8a8de1",
   "metadata": {},
   "outputs": [
    {
     "name": "stdout",
     "output_type": "stream",
     "text": [
      "2\n",
      "4\n",
      "6\n",
      "8\n"
     ]
    }
   ],
   "source": [
    "# Start, end, step\n",
    "for x in range(2, 10, 2): # 2,4,6,8\n",
    "    print(x)"
   ]
  },
  {
   "cell_type": "code",
   "execution_count": 25,
   "id": "06264b5c",
   "metadata": {},
   "outputs": [
    {
     "name": "stdout",
     "output_type": "stream",
     "text": [
      "Alice\n",
      "Bob\n",
      "Charlie\n"
     ]
    }
   ],
   "source": [
    "# Looping through a list\n",
    "for name in [\"Alice\", \"Bob\", \"Charlie\"]:\n",
    "    print(name)"
   ]
  },
  {
   "cell_type": "code",
   "execution_count": 26,
   "id": "ca9418bf",
   "metadata": {},
   "outputs": [
    {
     "name": "stdout",
     "output_type": "stream",
     "text": [
      "h\n",
      "e\n",
      "l\n",
      "l\n",
      "o\n"
     ]
    }
   ],
   "source": [
    "# Looping through a string\n",
    "for character in \"hello\":\n",
    "    print(character)"
   ]
  },
  {
   "cell_type": "markdown",
   "id": "b520b986",
   "metadata": {},
   "source": [
    "### While Loop (Indefinite Loop)\n",
    "- Runs **while** a condition is `True`."
   ]
  },
  {
   "cell_type": "code",
   "execution_count": 27,
   "id": "24e5af07",
   "metadata": {},
   "outputs": [
    {
     "name": "stdout",
     "output_type": "stream",
     "text": [
      "0\n",
      "1\n",
      "2\n",
      "3\n",
      "4\n"
     ]
    }
   ],
   "source": [
    "count = 0\n",
    "while count < 5:\n",
    "    print(count)\n",
    "    count += 1"
   ]
  },
  {
   "cell_type": "markdown",
   "id": "a8ba0004",
   "metadata": {},
   "source": [
    "### `break`, `continue` and `pass` keywords\n",
    "- `break` → exit the loop early.\n",
    "- `continue` → skip to the next iteration.\n",
    "- `pass` → placeholder code in the loop."
   ]
  },
  {
   "cell_type": "code",
   "execution_count": 28,
   "id": "d043df64",
   "metadata": {},
   "outputs": [
    {
     "name": "stdout",
     "output_type": "stream",
     "text": [
      "1\n",
      "3\n",
      "5\n"
     ]
    }
   ],
   "source": [
    "for n in range(10):\n",
    "    if n == 6:\n",
    "        break            # stops at 6\n",
    "    if n % 2 == 0:\n",
    "        continue         # skip even numbers\n",
    "    print(n)             # prints odd numbers before 6\n",
    "\n",
    "for n in range(5):\n",
    "    pass                 # placeholder for future code"
   ]
  },
  {
   "cell_type": "markdown",
   "id": "535d0da7",
   "metadata": {},
   "source": [
    "### Try this exercise!\n",
    "\n",
    "1. Use a for loop to print numbers 1–20 that are multiples of 3 on one line, separated by spaces."
   ]
  },
  {
   "cell_type": "code",
   "execution_count": 29,
   "id": "f446abb7",
   "metadata": {},
   "outputs": [
    {
     "name": "stdout",
     "output_type": "stream",
     "text": [
      "3 6 9 12 15 18 \n"
     ]
    }
   ],
   "source": [
    "# Multiples of 3 from 1 to 20 (print on one line)\n",
    "# TODO: your code here\n",
    "output = ''\n",
    "for n in range(1, 21):\n",
    "    if n % 3 == 0:\n",
    "        output += str(n) + ' '\n",
    "print(output)   \n"
   ]
  },
  {
   "cell_type": "markdown",
   "id": "8935bd6d",
   "metadata": {},
   "source": [
    "### Nested Loops\n",
    "You can combine loops for grid-like work."
   ]
  },
  {
   "cell_type": "code",
   "execution_count": 30,
   "id": "df7fc753",
   "metadata": {},
   "outputs": [
    {
     "name": "stdout",
     "output_type": "stream",
     "text": [
      "i=0, j=0, k=0\n",
      "i=0, j=0, k=1\n",
      "i=0, j=1, k=0\n",
      "i=0, j=1, k=1\n",
      "i=1, j=0, k=0\n",
      "i=1, j=0, k=1\n",
      "i=1, j=1, k=0\n",
      "i=1, j=1, k=1\n"
     ]
    }
   ],
   "source": [
    "for i in range(2):\n",
    "    for j in range(2):\n",
    "        for k in range(2):\n",
    "            print(f\"i={i}, j={j}, k={k}\")"
   ]
  },
  {
   "cell_type": "markdown",
   "id": "cdee8f19",
   "metadata": {},
   "source": [
    "---\n",
    "\n",
    "## 8) Functions\n",
    "> Functions are reusable, callable blocks of code.\n",
    "\n",
    "### Defining and Calling\n",
    "1. In order to call a function, you have to define it.\n",
    "2. In order to execute the code within the function, you have to call it.\n",
    "\n",
    "Define Function → Call Function → Function Executes"
   ]
  },
  {
   "cell_type": "code",
   "execution_count": 31,
   "id": "7843801b",
   "metadata": {},
   "outputs": [],
   "source": [
    "# Run this first to define the function\n",
    "def greet():\n",
    "    print(\"Hello, world!\")"
   ]
  },
  {
   "cell_type": "code",
   "execution_count": 32,
   "id": "8ab835bc",
   "metadata": {},
   "outputs": [
    {
     "name": "stdout",
     "output_type": "stream",
     "text": [
      "Hello, world!\n"
     ]
    }
   ],
   "source": [
    "# Now call the function to execute its code\n",
    "greet()"
   ]
  },
  {
   "cell_type": "code",
   "execution_count": 33,
   "id": "e85047ae",
   "metadata": {},
   "outputs": [],
   "source": [
    "# Try defining a function that prints a message\n",
    "def message():\n",
    "    print(\"Welcome to Python Jumpstart!\")\n"
   ]
  },
  {
   "cell_type": "code",
   "execution_count": 34,
   "id": "8938e10c",
   "metadata": {},
   "outputs": [
    {
     "name": "stdout",
     "output_type": "stream",
     "text": [
      "Welcome to Python Jumpstart!\n",
      "Welcome to Python Jumpstart!\n",
      "Welcome to Python Jumpstart!\n"
     ]
    }
   ],
   "source": [
    "# Call your function 3 times\n",
    "message()\n",
    "message()\n",
    "message()\n"
   ]
  },
  {
   "cell_type": "markdown",
   "id": "2a1b1ff5",
   "metadata": {},
   "source": [
    "### Parameters (Inputs)\n",
    "\n",
    "You can pass data into a function through parameters.\n",
    "- Parameters act like placeholders for values.\n",
    "- When calling the function, you can give arguments that fill those placeholders."
   ]
  },
  {
   "cell_type": "code",
   "execution_count": 35,
   "id": "1c818d75",
   "metadata": {},
   "outputs": [
    {
     "name": "stdout",
     "output_type": "stream",
     "text": [
      "Hello, Alice!\n"
     ]
    }
   ],
   "source": [
    "def greet(name):\n",
    "    print(f\"Hello, {name}!\")\n",
    "\n",
    "greet(\"Alice\")"
   ]
  },
  {
   "cell_type": "markdown",
   "id": "39741814",
   "metadata": {},
   "source": [
    "### Default Parameters\n",
    "\n",
    "You can give parameters a default value so they don’t have to be passed every time.\n",
    "- **If no value is provided, the default is used.**\n",
    "- This makes functions more flexible and less prone to errors due to missing data."
   ]
  },
  {
   "cell_type": "code",
   "execution_count": 36,
   "id": "7807d996",
   "metadata": {},
   "outputs": [
    {
     "name": "stdout",
     "output_type": "stream",
     "text": [
      "Hello, Guest!\n",
      "Hello, Alice!\n"
     ]
    }
   ],
   "source": [
    "def greet(name = \"Guest\"):\n",
    "    print(f\"Hello, {name}!\")\n",
    "\n",
    "greet()          # Hello, Guest!\n",
    "greet(\"Alice\")   # Hello, Alice!"
   ]
  },
  {
   "cell_type": "markdown",
   "id": "08ce0b6c",
   "metadata": {},
   "source": [
    "### Return Values (Outputs)\n",
    "A function can send data back to the caller using return.\n",
    "- return passes a result out of the function.\n",
    "- Without return, the function just runs and produces no output value."
   ]
  },
  {
   "cell_type": "code",
   "execution_count": 37,
   "id": "af644350",
   "metadata": {},
   "outputs": [
    {
     "name": "stdout",
     "output_type": "stream",
     "text": [
      "8\n"
     ]
    }
   ],
   "source": [
    "def add(a, b):\n",
    "    return a + b\n",
    "\n",
    "result = add(3, 5)\n",
    "print(result)  # 8"
   ]
  },
  {
   "cell_type": "markdown",
   "id": "5b8eee68",
   "metadata": {},
   "source": [
    "---\n",
    "\n",
    "## 9) Random\n",
    "Introduce randomness.\n",
    "\n",
    "- Use the `random` module.\n",
    "- `random.randint(start, end)` returns an **inclusive** integer in `[start, end]`."
   ]
  },
  {
   "cell_type": "code",
   "execution_count": 38,
   "id": "bb868af4",
   "metadata": {},
   "outputs": [
    {
     "name": "stdout",
     "output_type": "stream",
     "text": [
      "Your random number is 3\n"
     ]
    }
   ],
   "source": [
    "import random\n",
    "\n",
    "number = random.randint(1, 10)  # 1..10 inclusive\n",
    "print(f\"Your random number is {number}\")"
   ]
  },
  {
   "cell_type": "markdown",
   "id": "9b3c2cd8",
   "metadata": {},
   "source": [
    "### Pseudo-Randomness\n",
    "\n",
    "- Computers cannot create **true** randomness (like rolling a dice in real life).\n",
    "- Instead, they generate numbers using a formula, which are called `pseudo-random` numbers.\n",
    "\n",
    "#### How Python's `random` module works:\n",
    "- It uses a `seed value` (starting point) and a mathematical alrogithm to generate the pseudo-random numbers.\n",
    "- If you start with the same seed, you'll always get the same sequence of pseudo-random numbers."
   ]
  },
  {
   "cell_type": "code",
   "execution_count": 39,
   "id": "7235a1b3",
   "metadata": {},
   "outputs": [
    {
     "name": "stdout",
     "output_type": "stream",
     "text": [
      "2\n",
      "1\n",
      "5\n",
      "Seed Reset\n",
      "2\n",
      "1\n",
      "5\n"
     ]
    }
   ],
   "source": [
    "import random\n",
    "\n",
    "# Set the seed\n",
    "random.seed(42)\n",
    "\n",
    "# Generate random numbers\n",
    "print(random.randint(1, 10))  # always the same\n",
    "print(random.randint(1, 10))  # always the same\n",
    "print(random.randint(1, 10))  # always the same\n",
    "\n",
    "# Reset the seed to 42\n",
    "print(\"Seed Reset\")\n",
    "random.seed(42)\n",
    "\n",
    "# Repeat the sequence\n",
    "print(random.randint(1, 10))  # same as first run\n",
    "print(random.randint(1, 10))  # same as second run\n",
    "print(random.randint(1, 10))  # same as third run"
   ]
  },
  {
   "cell_type": "markdown",
   "id": "763c6c07",
   "metadata": {},
   "source": [
    "### Try this exercise!\n",
    "\n",
    "1. Generate 10 random integers in [1, 6] and print them."
   ]
  },
  {
   "cell_type": "code",
   "execution_count": 40,
   "id": "41a556a4",
   "metadata": {},
   "outputs": [
    {
     "name": "stdout",
     "output_type": "stream",
     "text": [
      "number 1 is 2\n",
      "number 2 is 2\n",
      "number 3 is 2\n",
      "number 4 is 6\n",
      "number 5 is 1\n",
      "number 6 is 6\n",
      "number 7 is 6\n",
      "number 8 is 5\n",
      "number 9 is 1\n",
      "number 10 is 5\n"
     ]
    }
   ],
   "source": [
    "# 10 random ints in [1, 6] and print them\n",
    "import random\n",
    "for i in range(10):\n",
    "    print('number', i+1, 'is', random.randint(1, 6))\n",
    "\n"
   ]
  },
  {
   "cell_type": "markdown",
   "id": "b021d6c7",
   "metadata": {},
   "source": [
    "---\n",
    "## Bonus lesson: If–Else Inside Functions\n",
    "\n",
    "- When you use if by itself, Python keeps checking the rest of the code unless you add `elif` or `else`."
   ]
  },
  {
   "cell_type": "code",
   "execution_count": 41,
   "id": "65c071e5",
   "metadata": {},
   "outputs": [
    {
     "name": "stdout",
     "output_type": "stream",
     "text": [
      "Without else:\n",
      "A\n",
      "Not A\n",
      "\n",
      "With else:\n",
      "A\n"
     ]
    }
   ],
   "source": [
    "grade = 85\n",
    "\n",
    "print(\"Without else:\")\n",
    "if grade >= 80:\n",
    "    print(\"A\")\n",
    "print(\"Not A\")\n",
    "print()\n",
    "print(\"With else:\")\n",
    "if grade >= 80:\n",
    "    print(\"A\")\n",
    "else:\n",
    "    print(\"Not A\")"
   ]
  },
  {
   "cell_type": "markdown",
   "id": "559f26a4",
   "metadata": {},
   "source": [
    "- When you use `return` inside an `if` condition, Python exits the function immediately once the condition is `True`.\n",
    "- That means you don’t need `else`, since the function won’t keep going."
   ]
  },
  {
   "cell_type": "code",
   "execution_count": 42,
   "id": "618cbd9c",
   "metadata": {},
   "outputs": [
    {
     "name": "stdout",
     "output_type": "stream",
     "text": [
      "A\n",
      "B\n",
      "F\n"
     ]
    }
   ],
   "source": [
    "def get_grade(grade):\n",
    "    if grade >= 80:\n",
    "        return \"A\"\n",
    "    if grade >= 70:\n",
    "        return \"B\"\n",
    "    if grade >= 60:\n",
    "        return \"C\"\n",
    "    if grade >= 50:\n",
    "        return \"D\"\n",
    "    return \"F\"   # no else needed\n",
    "\n",
    "print(get_grade(85))  # A\n",
    "print(get_grade(75))  # B\n",
    "print(get_grade(45))  # F"
   ]
  },
  {
   "cell_type": "markdown",
   "id": "19bd8efc",
   "metadata": {},
   "source": [
    "---\n",
    "# Extra Exercises\n",
    "## Loops"
   ]
  },
  {
   "cell_type": "markdown",
   "id": "717ca55d",
   "metadata": {},
   "source": [
    "1. Use a while loop to add whole numbers starting from 1 until the cumulative total is ≥ 50; print the final sum and the last number added."
   ]
  },
  {
   "cell_type": "code",
   "execution_count": 43,
   "id": "d2263bd0",
   "metadata": {},
   "outputs": [
    {
     "name": "stdout",
     "output_type": "stream",
     "text": [
      "current sum = 1, last number added = 1\n",
      "current sum = 3, last number added = 2\n",
      "current sum = 6, last number added = 3\n",
      "current sum = 10, last number added = 4\n",
      "current sum = 15, last number added = 5\n",
      "current sum = 21, last number added = 6\n",
      "current sum = 28, last number added = 7\n",
      "current sum = 36, last number added = 8\n",
      "current sum = 45, last number added = 9\n",
      "current sum = 55, last number added = 10\n",
      "\n",
      "final sum = 55, last number added = 10\n"
     ]
    }
   ],
   "source": [
    "# 1) While-loop running sum until total >= 50\n",
    "# TODO: your code here\n",
    "total = 0\n",
    "count = 1\n",
    "while total < 50:\n",
    "    total += count\n",
    "    count += 1\n",
    "    print(f\"current sum = {total}, last number added = {count-1}\") # For verification\n",
    "print(f\"\\nfinal sum = {total}, last number added = {count-1}\")\n"
   ]
  },
  {
   "cell_type": "markdown",
   "id": "cc9cbbdc",
   "metadata": {},
   "source": [
    "2. Given a list of names, print only those that do NOT start with 'A'. Use either while loop or for loop."
   ]
  },
  {
   "cell_type": "code",
   "execution_count": 44,
   "id": "8894442f",
   "metadata": {},
   "outputs": [
    {
     "name": "stdout",
     "output_type": "stream",
     "text": [
      "Alice\n",
      "Amy\n",
      "Ann\n",
      "\n",
      "Alice\n",
      "Amy\n",
      "Ann\n"
     ]
    }
   ],
   "source": [
    "# 2) Print only names that start with 'A' using continue keyword\n",
    "names = [\"Alice\", \"Bob\", \"Amy\", \"Charlie\", \"Ann\", \"Beatrice\", \"David\", \"Veronica\"]\n",
    "# TODO: your code here\n",
    "\n",
    "# for loop\n",
    "for name in names:\n",
    "    if not name.startswith('A'):\n",
    "        continue\n",
    "    print(name)\n",
    "\n",
    "print() # Line spacing\n",
    "\n",
    "# while loop\n",
    "while len(names) > 0:\n",
    "    name = names.pop(0)\n",
    "    if not name.startswith('A'):\n",
    "        continue\n",
    "    print(name)\n",
    "\n",
    "\n"
   ]
  },
  {
   "cell_type": "markdown",
   "id": "96937991",
   "metadata": {},
   "source": [
    "## Nested loops\n",
    "\n",
    "1. Print a 4×4 grid of `*` using nested loops."
   ]
  },
  {
   "cell_type": "code",
   "execution_count": 45,
   "id": "744b6a24",
   "metadata": {},
   "outputs": [
    {
     "name": "stdout",
     "output_type": "stream",
     "text": [
      "****\n",
      "****\n",
      "****\n",
      "****\n"
     ]
    }
   ],
   "source": [
    "# 4x4 grid of '*'\n",
    "\n",
    "# TODO: your code here\n",
    "row = ''\n",
    "for i in range(4):\n",
    "    for j in range(4):\n",
    "        row += '*'\n",
    "    print(row)\n",
    "    row = ''\n"
   ]
  },
  {
   "cell_type": "markdown",
   "id": "adde8df6",
   "metadata": {},
   "source": [
    "2. Print a multiplication table for 1 to 5.\n",
    "\n",
    "**Example:**\n",
    "\n",
    "| 1 | 2  | 3  | 4  | 5  |\n",
    "|---|----|----|----|----|\n",
    "| 2 | 4  | 6  | 8  | 10 |\n",
    "| 3 | 6  | ?  | ?  | ?  |\n",
    "| 4 | 8  | ?  | ?  | ?  |\n",
    "| 5 | 10 | ?  | ?  | ?  |"
   ]
  },
  {
   "cell_type": "code",
   "execution_count": 46,
   "id": "b70876a6",
   "metadata": {},
   "outputs": [
    {
     "name": "stdout",
     "output_type": "stream",
     "text": [
      "1\t2\t3\t4\t5\t\n",
      "2\t4\t6\t8\t10\t\n",
      "3\t6\t9\t12\t15\t\n",
      "4\t8\t12\t16\t20\t\n",
      "5\t10\t15\t20\t25\t\n"
     ]
    }
   ],
   "source": [
    "# Multiplication table for 1 to 5.\n",
    "# Reminder: You can use \\t for tab spacing\n",
    "\n",
    "# TODO: your code here\n",
    "for i in range (1, 6):\n",
    "    row = ''\n",
    "    for j in range(1, 6):\n",
    "        row += str(i * j) + '\\t'\n",
    "    print(row)\n",
    "\n"
   ]
  },
  {
   "cell_type": "markdown",
   "id": "ecc22397",
   "metadata": {},
   "source": [
    "## Functions"
   ]
  },
  {
   "cell_type": "code",
   "execution_count": 47,
   "id": "90a6d555",
   "metadata": {},
   "outputs": [
    {
     "name": "stdout",
     "output_type": "stream",
     "text": [
      "Welcome to Python Jumpstart, Alice!\n",
      "Welcome to Python Jumpstart, Bob!\n",
      "Welcome to Python Jumpstart, Charlie!\n"
     ]
    }
   ],
   "source": [
    "# Try writing a function that takes in a name as a parameter uses the name in a message\n",
    "def message(name):\n",
    "    print(f\"Welcome to Python Jumpstart, {name}!\")\n",
    "\n",
    "# Call the function with different inputs\n",
    "message(\"Alice\")\n",
    "message(\"Bob\")\n",
    "message(\"Charlie\")\n"
   ]
  },
  {
   "cell_type": "code",
   "execution_count": 48,
   "id": "62dd9b0e",
   "metadata": {},
   "outputs": [
    {
     "name": "stdout",
     "output_type": "stream",
     "text": [
      "Welcome to Python Jumpstart, Student!\n",
      "Welcome to Python Jumpstart, Alice!\n"
     ]
    }
   ],
   "source": [
    "# Copy your previous function here and modify it to use a default parameter value\n",
    "def message(name = \"Student\"):\n",
    "    print(f\"Welcome to Python Jumpstart, {name}!\")\n",
    "\n",
    "# Call your function with and without an argument\n",
    "message()\n",
    "message(\"Alice\")\n"
   ]
  },
  {
   "cell_type": "code",
   "execution_count": 49,
   "id": "f4769650",
   "metadata": {},
   "outputs": [
    {
     "name": "stdout",
     "output_type": "stream",
     "text": [
      "6\n",
      "16\n",
      "30\n"
     ]
    }
   ],
   "source": [
    "# Try writing a function that takes two parameters and returns their product (*)\n",
    "def product(a, b):\n",
    "    return a * b\n",
    "\n",
    "# Call your function with different arguments and print the results\n",
    "print(product(2, 3))\n",
    "print(product(4, 4))\n",
    "print(product(6, 5))\n",
    "\n"
   ]
  },
  {
   "cell_type": "markdown",
   "id": "eb971a44",
   "metadata": {},
   "source": [
    "## Random"
   ]
  },
  {
   "cell_type": "markdown",
   "id": "7f9098a6",
   "metadata": {},
   "source": [
    "- Keep generating random integers in [1,4] until these conditions are met, in order:\n",
    "\t1.\tland on a 1, printing `1` + the number of tries it took to roll a 1.\n",
    "\t2.\tland on a 2, printing `2` + the number of tries it took to roll a 2.\n",
    "\t3.\tland on a 3, printing `3` + the number of tries it took to roll a 3.\n",
    "    4.  land on a 4, printing `4` + the number of tries it took to roll a 4."
   ]
  },
  {
   "cell_type": "code",
   "execution_count": 50,
   "id": "a661d6ae",
   "metadata": {},
   "outputs": [
    {
     "name": "stdout",
     "output_type": "stream",
     "text": [
      "Got a 1 after 2 tries\n",
      "Got a 2 after 3 tries\n",
      "Got a 3 after 7 tries\n",
      "Got a 4 after 3 tries\n"
     ]
    }
   ],
   "source": [
    "# Keep printing random numbers in [1, 4] until you get a 1\n",
    "# After getting a 1, print how many numbers were generated in order to arrive at 1\n",
    "# Then, keep printing random numbers in [1, 4] until you get a 2\n",
    "# After getting a 2, print how many numbers were generated in order to arrive at 2\n",
    "# Then, keep printing random numbers in [1, 4] until you get a 3\n",
    "# After getting a 3, print how many numbers were generated in order to arrive at 3\n",
    "# Then, keep printing random numbers in [1, 4] until you get a 4\n",
    "# Then print how many numbers were generated in total for all 4 stages\n",
    "import random\n",
    "count = 0\n",
    "while (True):\n",
    "    if random.randint(1, 4) == 1:\n",
    "        count += 1\n",
    "        print(f\"Got a 1 after {count} tries\")\n",
    "        break\n",
    "    count += 1\n",
    "count = 0\n",
    "while (True):\n",
    "    if random.randint(1, 4) == 2:\n",
    "        count += 1\n",
    "        print(f\"Got a 2 after {count} tries\")\n",
    "        break\n",
    "    count += 1\n",
    "count = 0\n",
    "while (True):\n",
    "    if random.randint(1, 4) == 3:\n",
    "        count += 1\n",
    "        print(f\"Got a 3 after {count} tries\")\n",
    "        break\n",
    "    count += 1\n",
    "count = 0\n",
    "while (True):\n",
    "    if random.randint(1, 4) == 4:\n",
    "        count += 1\n",
    "        print(f\"Got a 4 after {count} tries\")\n",
    "        break\n",
    "    count += 1\n"
   ]
  },
  {
   "cell_type": "markdown",
   "id": "6dbd1b8e",
   "metadata": {},
   "source": [
    "## Bonus lesson: Refactoring\n",
    ">Refactoring is improving the structure of your code without changing what it does.\n",
    "\n",
    "Benefits of refactoring your code:\n",
    "- **Makes your code easier to read.**\n",
    "- **Makes your code easier to maintain.**\n",
    "- **Reduces duplication within your main code.**"
   ]
  },
  {
   "cell_type": "code",
   "execution_count": 51,
   "id": "870dbd5d",
   "metadata": {},
   "outputs": [
    {
     "name": "stdout",
     "output_type": "stream",
     "text": [
      "Got a 1 after 6 tries\n",
      "Got a 2 after 14 tries\n",
      "Got a 3 after 4 tries\n",
      "Got a 4 after 4 tries\n"
     ]
    }
   ],
   "source": [
    "# Copy your previous code here and refactor parts of it into a function and call it in your main code\n",
    "# Functions\n",
    "def wait_for_number(target):\n",
    "    count = 0\n",
    "    while (True):\n",
    "        if random.randint(1, 4) == target:\n",
    "            count += 1\n",
    "            print(f\"Got a {target} after {count} tries\")\n",
    "            break\n",
    "        count += 1\n",
    "\n",
    "# Main code\n",
    "wait_for_number(1)\n",
    "wait_for_number(2)\n",
    "wait_for_number(3)\n",
    "wait_for_number(4)\n"
   ]
  }
 ],
 "metadata": {
  "kernelspec": {
   "display_name": ".venv (3.12.0)",
   "language": "python",
   "name": "python3"
  },
  "language_info": {
   "codemirror_mode": {
    "name": "ipython",
    "version": 3
   },
   "file_extension": ".py",
   "mimetype": "text/x-python",
   "name": "python",
   "nbconvert_exporter": "python",
   "pygments_lexer": "ipython3",
   "version": "3.12.0"
  }
 },
 "nbformat": 4,
 "nbformat_minor": 5
}
