{
 "cells": [
  {
   "cell_type": "markdown",
   "id": "ba169f7d",
   "metadata": {},
   "source": [
    "## 1) Data Types\n",
    "\n",
    "> Python is dynamically typed: the variable’s type is decided at runtime.\n",
    "\n",
    "- whole numbers: `-2, 0, 42`\n",
    "- decimals: `3.14, -0.001`\n",
    "- `True` or `False`\n",
    "- text: `'hello'`, `\"abc\"`\n",
    "- No separate ``: a “character” is just a `str` of length 1, e.g., `'A'`.\n",
    "- No separate ``**/**``: `float` is double‑precision; `int` grows automatically (no fixed 32/64‑bit limit in practice)."
   ]
  },
  {
   "cell_type": "code",
   "execution_count": null,
   "id": "c2463be0",
   "metadata": {},
   "outputs": [],
   "source": [
    "x = 10            # int\n",
    "pi = 3.14159      # float\n",
    "ok = True         # bool\n",
    "letter = 'A'      # str of length 1 (no char type)\n",
    "module = \"ICT133\" # str\n",
    "dict = {\"a\": 1, \"b\": 2} # dictionary\n",
    "list = [1, 2, 3]  # list\n",
    "tuple = (1, 2, 3) # tuple\n",
    "set = {1, 2, 3}   # set"
   ]
  },
  {
   "cell_type": "markdown",
   "id": "774e8be0",
   "metadata": {},
   "source": [
    "**Check a type:**\n",
    "\n",
    "Use `type()`"
   ]
  },
  {
   "cell_type": "code",
   "execution_count": null,
   "id": "b280a344",
   "metadata": {},
   "outputs": [],
   "source": [
    "print(type(x))  # <class 'int'>\n",
    "\n",
    "# Try printing the type of the other variables\n"
   ]
  },
  {
   "cell_type": "markdown",
   "id": "f471db34",
   "metadata": {},
   "source": [
    "---\n",
    "\n",
    "## 2) Variables & Assignment\n",
    "\n",
    "> Variables are names given to a piece of data<br>\n",
    "> You can assign a value to the variable\n",
    "\n",
    "### Basic assignment:"
   ]
  },
  {
   "cell_type": "code",
   "execution_count": null,
   "id": "d0c40609",
   "metadata": {},
   "outputs": [],
   "source": [
    "score = 95\n",
    "name = \"Ada\"\n",
    "\n",
    "print(\"score:\", type(score))\n",
    "print(\"name:\", type(name))"
   ]
  },
  {
   "cell_type": "markdown",
   "id": "ee599e59",
   "metadata": {},
   "source": [
    "### Simultaneous assignment:"
   ]
  },
  {
   "cell_type": "code",
   "execution_count": null,
   "id": "41ef041a",
   "metadata": {},
   "outputs": [],
   "source": [
    "x, y = 1, \"one\"\n",
    "\n",
    "print(\"x: \", x,type(x))\n",
    "print(\"y: \", y,type(y))"
   ]
  },
  {
   "cell_type": "markdown",
   "id": "98a6ff37",
   "metadata": {},
   "source": [
    "### Swapping values:"
   ]
  },
  {
   "cell_type": "code",
   "execution_count": null,
   "id": "10be05d8",
   "metadata": {},
   "outputs": [],
   "source": [
    "x, y = y, x\n",
    "\n",
    "print(\"x: \", x,type(x))\n",
    "print(\"y: \", y,type(y))"
   ]
  },
  {
   "cell_type": "markdown",
   "id": "6a4e939f",
   "metadata": {},
   "source": [
    "### Type conversion (AKA Type Casting):"
   ]
  },
  {
   "cell_type": "code",
   "execution_count": null,
   "id": "28e067fd",
   "metadata": {},
   "outputs": [],
   "source": [
    "age_str = input(\"Enter age: \")    # input() returns a string\n",
    "\n",
    "print(\"raw input age:\", age_str, type(age_str))"
   ]
  },
  {
   "cell_type": "code",
   "execution_count": null,
   "id": "84e813b7",
   "metadata": {},
   "outputs": [],
   "source": [
    "age = int(age_str)    # convert to int\n",
    "age_float = float(age_str)     # to float\n",
    "age_bool = bool(age_str)       # True for non-zero\n",
    "\n",
    "print(\"age:\", age, type(age))\n",
    "print(\"age_float:\", age_float, type(age_float))\n",
    "print(\"age_bool:\", age_bool, type(age_bool))"
   ]
  },
  {
   "cell_type": "markdown",
   "id": "f650dcef",
   "metadata": {},
   "source": [
    "### Use case for casting:"
   ]
  },
  {
   "cell_type": "code",
   "execution_count": null,
   "id": "a0553981",
   "metadata": {},
   "outputs": [],
   "source": [
    "age_str = \"21\"                          # string\n",
    "str_addition = age_str + \"5\"            # adding strings (concatenation)\n",
    "print(\"str addition:\", str_addition)    # \"215\"\n",
    "age = int(age_str) + 5                  # convert to int, then addition\n",
    "print(\"age:\", age)                      # 26"
   ]
  },
  {
   "cell_type": "markdown",
   "id": "ba3e6897",
   "metadata": {},
   "source": [
    "---\n",
    "\n",
    "## 3) Arithmetic Operators"
   ]
  },
  {
   "cell_type": "markdown",
   "id": "16db31bf",
   "metadata": {},
   "source": [
    "| Operator | Description |\n",
    "|:---------:|-------------|\n",
    "| `+`       | **Addition** |\n",
    "| `-`       | **Subtraction** |\n",
    "| `*`       | **Multiplication** |\n",
    "| `/`       | **True division** (result is always float) |\n",
    "| `%`       | **Modulus** (returns the remainder) |\n",
    "| `//`      | **Floor division** (drops the remainders) |\n",
    "| `**`      | **Exponent** (power) |"
   ]
  },
  {
   "cell_type": "code",
   "execution_count": null,
   "id": "9a888a38",
   "metadata": {},
   "outputs": [],
   "source": [
    "one = 7 + 3       # 10 (addition)\n",
    "two = 7 - 3       # 4 (subtraction)\n",
    "three = 7 * 3     # 21 (multiplication)\n",
    "four = 7 / 2      # 3.5 (true division)\n",
    "five = 7 % 3      # 1 (modulus)\n",
    "six = 7 // 2      # 2 (floor division, drops the fractional part)\n",
    "seven = 2 ** 5    # 32 (exponent, 2 to the power of 5)\n",
    "\n",
    "print(\"1. \", one)   # 10 (addition)\n",
    "print(\"2. \", two)   # 4  (subtraction)\n",
    "print(\"3. \", three)   # 21 (multiplication)\n",
    "print(\"4. \", four)   # 3.5 (true division, result is float)\n",
    "print(\"5. \", five)   # 1 (modulus, remainder of 7/3)\n",
    "print(\"6. \", six)  # 2 (floor division, drops the fractional part)\n",
    "print(\"7. \", seven)  # 32 (exponent, 2 to the power of 5)\n",
    "\n"
   ]
  }
 ],
 "metadata": {
  "kernelspec": {
   "display_name": ".venv (3.12.0)",
   "language": "python",
   "name": "python3"
  },
  "language_info": {
   "codemirror_mode": {
    "name": "ipython",
    "version": 3
   },
   "file_extension": ".py",
   "mimetype": "text/x-python",
   "name": "python",
   "nbconvert_exporter": "python",
   "pygments_lexer": "ipython3",
   "version": "3.12.0"
  }
 },
 "nbformat": 4,
 "nbformat_minor": 5
}
